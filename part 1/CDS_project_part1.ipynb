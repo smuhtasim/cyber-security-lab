{
 "cells": [
  {
   "cell_type": "markdown",
   "metadata": {
    "id": "sd6iFKF2gohh"
   },
   "source": [
    "# **CDS Project: Part 1**\n",
    "\n",
    "*Institute of Software Security (E22)*  \n",
    "*Hamburg University of Technology*  \n",
    "*SoSe 2023*\n",
    "\n",
    "## Learning objectives\n",
    "---\n",
    "\n",
    "- Use a basic Machine Learning (ML) pipeline with pre-trained models.\n",
    "- Build your own data loader.\n",
    "- Load and run a pre-trained ML model.\n",
    "- Evaluate the performance of an ML model.\n",
    "- Calculate and interpret performance metrics.\n",
    "\n",
    "## Materials\n",
    "---\n",
    "\n",
    "- Lecture Slides 1, 2, and 3.\n",
    "- PyTorch Documentation: [Datasets and Data Loaders](https://pytorch.org/tutorials/beginner/basics/data_tutorial.html) \n"
   ]
  },
  {
   "cell_type": "markdown",
   "metadata": {
    "id": "ybWt0W4gjbiC"
   },
   "source": [
    "## Project Description\n",
    "---\n",
    "\n",
    "In this project, you are given an ML model that is pre-trained on a vulnerability dataset. The dataset consists of code samples labeled with True or False flags, depending on the presence and absense of a vulnerability. Your goal is to use the pre-trained model to predict if the code samples in the validation set contain vulnerabilities or not and analyse the results. Please proceed to the below tasks. "
   ]
  },
  {
   "cell_type": "markdown",
   "metadata": {
    "id": "IrciLvqNj96k"
   },
   "source": [
    "###*Task 1*\n",
    "\n",
    "Build a data loader for the validation dataset present in the following path: \"*data_students/student_dataset.hdf5*\". You will be using this dataset to validate the performance of the ML model. The dataset is in HDF5 binary data format. This format is used to store large amount of data. Make sure that you import and familiarise yourself with the right Python libraries to handle HDF5 files. \n"
   ]
  },
  {
   "cell_type": "code",
   "execution_count": 6,
   "metadata": {},
   "outputs": [
    {
     "name": "stdout",
     "output_type": "stream",
     "text": [
      "Requirement already satisfied: h5py in c:\\users\\srijo\\anaconda3\\lib\\site-packages (3.11.0)\n",
      "Requirement already satisfied: torch in c:\\users\\srijo\\anaconda3\\lib\\site-packages (2.6.0)\n",
      "Requirement already satisfied: numpy>=1.17.3 in c:\\users\\srijo\\anaconda3\\lib\\site-packages (from h5py) (1.26.4)\n",
      "Requirement already satisfied: filelock in c:\\users\\srijo\\anaconda3\\lib\\site-packages (from torch) (3.13.1)\n",
      "Requirement already satisfied: typing-extensions>=4.10.0 in c:\\users\\srijo\\anaconda3\\lib\\site-packages (from torch) (4.11.0)\n",
      "Requirement already satisfied: networkx in c:\\users\\srijo\\anaconda3\\lib\\site-packages (from torch) (3.2.1)\n",
      "Requirement already satisfied: jinja2 in c:\\users\\srijo\\anaconda3\\lib\\site-packages (from torch) (3.1.4)\n",
      "Requirement already satisfied: fsspec in c:\\users\\srijo\\anaconda3\\lib\\site-packages (from torch) (2024.3.1)\n",
      "Requirement already satisfied: setuptools in c:\\users\\srijo\\anaconda3\\lib\\site-packages (from torch) (69.5.1)\n",
      "Requirement already satisfied: sympy==1.13.1 in c:\\users\\srijo\\anaconda3\\lib\\site-packages (from torch) (1.13.1)\n",
      "Requirement already satisfied: mpmath<1.4,>=1.1.0 in c:\\users\\srijo\\anaconda3\\lib\\site-packages (from sympy==1.13.1->torch) (1.3.0)\n",
      "Requirement already satisfied: MarkupSafe>=2.0 in c:\\users\\srijo\\anaconda3\\lib\\site-packages (from jinja2->torch) (2.1.3)\n"
     ]
    }
   ],
   "source": [
    "!pip install h5py torch"
   ]
  },
  {
   "cell_type": "code",
   "execution_count": 7,
   "metadata": {
    "id": "Eem6AZNyyXsn"
   },
   "outputs": [
    {
     "name": "stdout",
     "output_type": "stream",
     "text": [
      "['labels', 'source', 'vectors']\n",
      "X batch shape: torch.Size([4, 1, 768])\n",
      "Y batch: tensor([1, 0, 0, 0])\n"
     ]
    },
    {
     "name": "stderr",
     "output_type": "stream",
     "text": [
      "C:\\Users\\srijo\\AppData\\Local\\Temp\\ipykernel_23360\\4239374828.py:20: DeprecationWarning: In future, it will be an error for 'np.bool_' scalars to be interpreted as an index\n",
      "  y = torch.tensor(self.labels[idx], dtype=torch.long)\n"
     ]
    }
   ],
   "source": [
    "# TODO: import the necessary libraries to load the data from the specified path.\n",
    "import h5py\n",
    "import torch\n",
    "from torch.utils.data import Dataset, DataLoader\n",
    "\n",
    "with h5py.File(r\"C:\\Users\\srijo\\Documents\\DS\\Cyber DS\\material\\lab\\data_students\\student_dataset.hdf5\", 'r') as f:\n",
    "    print(list(f.keys()))\n",
    "\n",
    "class CodeDataset(Dataset):\n",
    "    def __init__(self, file_path):\n",
    "        self.file = h5py.File(r\"C:\\Users\\srijo\\Documents\\DS\\Cyber DS\\material\\lab\\data_students\\student_dataset.hdf5\", 'r')\n",
    "        self.vectors = self.file['vectors']\n",
    "        self.labels = self.file['labels']\n",
    "\n",
    "    def __len__(self):\n",
    "        return len(self.vectors)\n",
    "\n",
    "    def __getitem__(self, idx):\n",
    "        x = torch.tensor(self.vectors[idx], dtype=torch.float32)\n",
    "        y = torch.tensor(self.labels[idx], dtype=torch.long)\n",
    "        return x, y\n",
    "\n",
    "file_path = r\"C:\\Users\\srijo\\Documents\\DS\\Cyber DS\\material\\lab\\data_students\\student_dataset.hdf5\"\n",
    "\n",
    "dataset = CodeDataset(file_path)\n",
    "loader = DataLoader(dataset, batch_size=4, shuffle=True)\n",
    "\n",
    "# View a sample batch\n",
    "for x_batch, y_batch in loader:\n",
    "    print(\"X batch shape:\", x_batch.shape)\n",
    "    print(\"Y batch:\", y_batch)\n",
    "    break  # just show one batch\n"
   ]
  },
  {
   "cell_type": "markdown",
   "metadata": {
    "id": "ARwcBrbFlMu8"
   },
   "source": [
    "###*Task 2*\n",
    "\n",
    "Generate a table with 10 random samples from the dataset and show their corresponding labels."
   ]
  },
  {
   "cell_type": "code",
   "execution_count": 9,
   "metadata": {
    "id": "AuYminA_mTnJ"
   },
   "outputs": [
    {
     "name": "stderr",
     "output_type": "stream",
     "text": [
      "C:\\Users\\srijo\\AppData\\Local\\Temp\\ipykernel_23360\\4239374828.py:20: DeprecationWarning: In future, it will be an error for 'np.bool_' scalars to be interpreted as an index\n",
      "  y = torch.tensor(self.labels[idx], dtype=torch.long)\n"
     ]
    },
    {
     "data": {
      "text/html": [
       "<div>\n",
       "<style scoped>\n",
       "    .dataframe tbody tr th:only-of-type {\n",
       "        vertical-align: middle;\n",
       "    }\n",
       "\n",
       "    .dataframe tbody tr th {\n",
       "        vertical-align: top;\n",
       "    }\n",
       "\n",
       "    .dataframe thead th {\n",
       "        text-align: right;\n",
       "    }\n",
       "</style>\n",
       "<table border=\"1\" class=\"dataframe\">\n",
       "  <thead>\n",
       "    <tr style=\"text-align: right;\">\n",
       "      <th></th>\n",
       "      <th>Index</th>\n",
       "      <th>Vector (first 5 values)</th>\n",
       "      <th>Label</th>\n",
       "    </tr>\n",
       "  </thead>\n",
       "  <tbody>\n",
       "    <tr>\n",
       "      <th>0</th>\n",
       "      <td>174</td>\n",
       "      <td>[0.5804418, 0.75389934, 0.14379884, 0.7272156,...</td>\n",
       "      <td>0</td>\n",
       "    </tr>\n",
       "    <tr>\n",
       "      <th>1</th>\n",
       "      <td>171</td>\n",
       "      <td>[0.6437178, -0.11841801, -2.5057147, -1.390898...</td>\n",
       "      <td>0</td>\n",
       "    </tr>\n",
       "    <tr>\n",
       "      <th>2</th>\n",
       "      <td>164</td>\n",
       "      <td>[0.3450719, 1.7583288, -0.265322, 0.7399738, 1...</td>\n",
       "      <td>0</td>\n",
       "    </tr>\n",
       "    <tr>\n",
       "      <th>3</th>\n",
       "      <td>190</td>\n",
       "      <td>[0.81041217, 1.0358808, -0.2620668, -0.8361679...</td>\n",
       "      <td>0</td>\n",
       "    </tr>\n",
       "    <tr>\n",
       "      <th>4</th>\n",
       "      <td>12</td>\n",
       "      <td>[0.27083325, -0.8489423, -0.537367, -0.3146219...</td>\n",
       "      <td>0</td>\n",
       "    </tr>\n",
       "    <tr>\n",
       "      <th>5</th>\n",
       "      <td>791</td>\n",
       "      <td>[-0.47601297, -0.51335967, -0.84174156, -0.401...</td>\n",
       "      <td>1</td>\n",
       "    </tr>\n",
       "    <tr>\n",
       "      <th>6</th>\n",
       "      <td>351</td>\n",
       "      <td>[-1.3893349, -0.14533298, -1.7307389, 0.456176...</td>\n",
       "      <td>0</td>\n",
       "    </tr>\n",
       "    <tr>\n",
       "      <th>7</th>\n",
       "      <td>574</td>\n",
       "      <td>[1.3120141, 1.1071213, -0.8958371, -1.0750082,...</td>\n",
       "      <td>0</td>\n",
       "    </tr>\n",
       "    <tr>\n",
       "      <th>8</th>\n",
       "      <td>631</td>\n",
       "      <td>[0.18595368, 0.35955852, 0.548162, 1.4417868, ...</td>\n",
       "      <td>1</td>\n",
       "    </tr>\n",
       "    <tr>\n",
       "      <th>9</th>\n",
       "      <td>462</td>\n",
       "      <td>[3.4308567, 0.9149247, -2.5442762, 0.14785768,...</td>\n",
       "      <td>0</td>\n",
       "    </tr>\n",
       "  </tbody>\n",
       "</table>\n",
       "</div>"
      ],
      "text/plain": [
       "   Index                            Vector (first 5 values)  Label\n",
       "0    174  [0.5804418, 0.75389934, 0.14379884, 0.7272156,...      0\n",
       "1    171  [0.6437178, -0.11841801, -2.5057147, -1.390898...      0\n",
       "2    164  [0.3450719, 1.7583288, -0.265322, 0.7399738, 1...      0\n",
       "3    190  [0.81041217, 1.0358808, -0.2620668, -0.8361679...      0\n",
       "4     12  [0.27083325, -0.8489423, -0.537367, -0.3146219...      0\n",
       "5    791  [-0.47601297, -0.51335967, -0.84174156, -0.401...      1\n",
       "6    351  [-1.3893349, -0.14533298, -1.7307389, 0.456176...      0\n",
       "7    574  [1.3120141, 1.1071213, -0.8958371, -1.0750082,...      0\n",
       "8    631  [0.18595368, 0.35955852, 0.548162, 1.4417868, ...      1\n",
       "9    462  [3.4308567, 0.9149247, -2.5442762, 0.14785768,...      0"
      ]
     },
     "metadata": {},
     "output_type": "display_data"
    }
   ],
   "source": [
    "# TODO: display 10 random samples from the loaded dataset\n",
    "import random\n",
    "import pandas as pd\n",
    "\n",
    "# Select 10 random indices\n",
    "random_indices = random.sample(range(len(dataset)), 10)\n",
    "\n",
    "# Prepare data for the table\n",
    "samples = []\n",
    "for idx in random_indices:\n",
    "    x, y = dataset[idx]\n",
    "    samples.append({\n",
    "        \"Index\": idx,\n",
    "        \"Vector (first 5 values)\": x.squeeze().numpy()[:5],  \n",
    "        \"Label\": y.item()\n",
    "    })\n",
    "\n",
    "\n",
    "df = pd.DataFrame(samples)\n",
    "#pd.set_option('display.max_colwidth', None)  # prevents truncation\n",
    "\n",
    "display(df)"
   ]
  },
  {
   "cell_type": "markdown",
   "metadata": {
    "id": "da5YCWVkmUL2"
   },
   "source": [
    "###*Task 3*\n",
    "\n",
    "Inspect the dataset and answer the following questions:\n",
    "1.  How many samples are in the dataset?\n",
    "2. How many positive examples (vulnerability-labeled instances) are in the dataset?\n",
    "3. What is the vulnerable/non-vulnerable ratio?"
   ]
  },
  {
   "cell_type": "code",
   "execution_count": 11,
   "metadata": {
    "id": "LDpozMCfnnJg"
   },
   "outputs": [
    {
     "name": "stdout",
     "output_type": "stream",
     "text": [
      "1000\n",
      "Label 0 (non-vulnerable) count: 717\n",
      "Label 1 (vulnerable) count: 283\n",
      "Ratio of vulnerable/non-vulnerable: 0.3947001394700139\n"
     ]
    }
   ],
   "source": [
    "# TODO: inspect and understand the loaded dataset\n",
    "num_samples = len(dataset)\n",
    "print(num_samples)\n",
    "\n",
    "label_count = {0: 0, 1: 0}\n",
    "for label in dataset.labels:\n",
    "    label_count[label] += 1\n",
    "\n",
    "print(f\"Label 0 (non-vulnerable) count: {label_count[0]}\")\n",
    "print(f\"Label 1 (vulnerable) count: {label_count[1]}\")\n",
    "print(f\"Ratio of vulnerable/non-vulnerable: {label_count[1]/label_count[0]}\")"
   ]
  },
  {
   "cell_type": "markdown",
   "metadata": {
    "id": "UivWlO3dnngr"
   },
   "source": [
    "###*Task 4*\n",
    "\n",
    "Load and run the following pre-trained neural network model called VulnPredictionModel. "
   ]
  },
  {
   "cell_type": "code",
   "execution_count": 13,
   "metadata": {
    "id": "3Jex8XdkFJhb"
   },
   "outputs": [
    {
     "name": "stdout",
     "output_type": "stream",
     "text": [
      "Using cpu device\n"
     ]
    }
   ],
   "source": [
    "\n",
    "device = \"cuda\" if torch.cuda.is_available() else \"cpu\"\n",
    "print(f\"Using {device} device\")\n"
   ]
  },
  {
   "cell_type": "code",
   "execution_count": 14,
   "metadata": {
    "id": "9RrGtLkpEzKu"
   },
   "outputs": [
    {
     "data": {
      "text/plain": [
       "<All keys matched successfully>"
      ]
     },
     "execution_count": 14,
     "metadata": {},
     "output_type": "execute_result"
    }
   ],
   "source": [
    "\n",
    "from torch import nn\n",
    "\n",
    "class VulnPredictModel(nn.Module):\n",
    "    # intialize the model architecture\n",
    "    def __init__(self):\n",
    "      super().__init__()\n",
    "      self.flatten = nn.Flatten()\n",
    "      self.linear_stack = nn.Sequential(\n",
    "         nn.Linear(768, 64),\n",
    "         nn.ReLU(),\n",
    "         nn.Linear(64, 64),\n",
    "         nn.ReLU(),\n",
    "         nn.Linear(64, 1),\n",
    "         nn.Sigmoid()\n",
    "      )\n",
    "\n",
    "      # forward propagation\n",
    "    def forward(self, x):\n",
    "        pred = self.linear_stack(x)\n",
    "        return pred\n",
    "      \n",
    "\n",
    "# TODO: intialize and load the model\n",
    "\n",
    "model = VulnPredictModel()\n",
    "model.to(device)\n",
    "model_weights_path = r\"C:\\Users\\srijo\\Documents\\DS\\Cyber DS\\material\\lab\\model_2023-03-28_20-03.pth\"\n",
    "model.load_state_dict(torch.load(model_weights_path, map_location=device))"
   ]
  },
  {
   "cell_type": "markdown",
   "metadata": {
    "id": "-A9M9ID0n2Gx"
   },
   "source": [
    "###*Task 5*\n",
    "\n",
    "Make a prediction on the provided dataset and compute the following values:\n",
    "- True Positives\n",
    "- True Negatives\n",
    "- False Positives\n",
    "- False Negatives"
   ]
  },
  {
   "cell_type": "code",
   "execution_count": 16,
   "metadata": {
    "id": "R8KdeQ2Rn-2Z"
   },
   "outputs": [
    {
     "name": "stdout",
     "output_type": "stream",
     "text": [
      "True Positives (TP): 20\n",
      "True Negatives (TN): 716\n",
      "False Positives (FP): 1\n",
      "False Negatives (FN): 263\n"
     ]
    },
    {
     "name": "stderr",
     "output_type": "stream",
     "text": [
      "C:\\Users\\srijo\\AppData\\Local\\Temp\\ipykernel_23360\\4239374828.py:20: DeprecationWarning: In future, it will be an error for 'np.bool_' scalars to be interpreted as an index\n",
      "  y = torch.tensor(self.labels[idx], dtype=torch.long)\n"
     ]
    }
   ],
   "source": [
    "from sklearn.metrics import confusion_matrix\n",
    "# TODO: makethe prediction for all the samples in the validation set.\n",
    "model.eval()\n",
    "true_labels = []\n",
    "predicted_labels = []\n",
    "\n",
    "dataloader = torch.utils.data.DataLoader(dataset, batch_size=32, shuffle=False)\n",
    "\n",
    "with torch.no_grad():  \n",
    "    for data, labels in dataloader:\n",
    "        \n",
    "        data, labels = data.to(device), labels.to(device)\n",
    "\n",
    "        \n",
    "        predictions = model(data)\n",
    "\n",
    "        \n",
    "        predicted_classes = (predictions.squeeze() > 0.5).float()  # Sigmoid output > 0.5 is class 1\n",
    "\n",
    "        \n",
    "        true_labels.extend(labels.cpu().numpy())  \n",
    "        predicted_labels.extend(predicted_classes.cpu().numpy())\n",
    "\n",
    "\n",
    "true_labels = torch.tensor(true_labels)\n",
    "predicted_labels = torch.tensor(predicted_labels)\n",
    "\n",
    "tn, fp, fn, tp = confusion_matrix(true_labels.numpy(), predicted_labels.numpy()).ravel()\n",
    "# todo: compute true positives, true negatives, false postives and false negatives.\n",
    "\n",
    "print(f\"True Positives (TP): {tp}\")\n",
    "print(f\"True Negatives (TN): {tn}\")\n",
    "print(f\"False Positives (FP): {fp}\")\n",
    "print(f\"False Negatives (FN): {fn}\")"
   ]
  },
  {
   "cell_type": "markdown",
   "metadata": {
    "id": "TaFHwiVwow7s"
   },
   "source": [
    "### *Task 6*\n",
    "\n",
    "Compute the corresponding performance metrics **manually** (do not use PyTorch's predefined metrics):\n",
    "- Accuracy\n",
    "- Precision\n",
    "- Recall\n",
    "- F1"
   ]
  },
  {
   "cell_type": "code",
   "execution_count": 18,
   "metadata": {
    "id": "KE2daH3LpGEc"
   },
   "outputs": [
    {
     "name": "stdout",
     "output_type": "stream",
     "text": [
      "Accuracy :0.736\n",
      "Precision :0.9523809523809523\n",
      "Recall :0.0706713780918728\n",
      "F1 :0.13157894736842105\n"
     ]
    }
   ],
   "source": [
    "# TODO: calculate accuracy\n",
    "acc = (tp+tn)/(tp+tn+fp+fn)\n",
    "print(f\"Accuracy :{acc}\")\n",
    "# TODO: calculate precision\n",
    "pre = (tp)/(tp+fp)\n",
    "print(f\"Precision :{pre}\")\n",
    "# TODO: calculate recall\n",
    "recall = (tp)/(tp+fn)\n",
    "print(f\"Recall :{recall}\")\n",
    "# TODO: calculate F1-score\n",
    "f1 = 2*(pre*recall)/(pre+recall)\n",
    "print(f\"F1 :{f1}\")"
   ]
  },
  {
   "cell_type": "markdown",
   "metadata": {
    "id": "kdIkKUPlpGjv"
   },
   "source": [
    "### *Task 7*\n",
    "\n",
    "Based on your performance metrics, answer the following questions:\n",
    "\n",
    "- Explain the impact of accuracy vs. F1 score.\n",
    "- In this particular problem, which metric one should focus more on?\n",
    "- Is there a better metric suitable for the use case of vulnerability prediction? Why?\n"
   ]
  }
 ],
 "metadata": {
  "colab": {
   "provenance": []
  },
  "kernelspec": {
   "display_name": "Python 3 (ipykernel)",
   "language": "python",
   "name": "python3"
  },
  "language_info": {
   "codemirror_mode": {
    "name": "ipython",
    "version": 3
   },
   "file_extension": ".py",
   "mimetype": "text/x-python",
   "name": "python",
   "nbconvert_exporter": "python",
   "pygments_lexer": "ipython3",
   "version": "3.12.4"
  }
 },
 "nbformat": 4,
 "nbformat_minor": 4
}
